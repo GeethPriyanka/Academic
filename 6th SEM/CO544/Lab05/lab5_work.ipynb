{
 "cells": [
  {
   "cell_type": "code",
   "execution_count": 1,
   "metadata": {},
   "outputs": [],
   "source": [
    "# Problem 1"
   ]
  },
  {
   "cell_type": "code",
   "execution_count": 2,
   "metadata": {},
   "outputs": [
    {
     "name": "stdout",
     "output_type": "stream",
     "text": [
      "    animalName   hair  feathers   eggs   milk  airborne  aquatic  predator  \\\n",
      "0     aardvark   True     False  False   True     False    False      True   \n",
      "1     antelope   True     False  False   True     False    False     False   \n",
      "2         bass  False     False   True  False     False     True      True   \n",
      "3         bear   True     False  False   True     False    False      True   \n",
      "4         boar   True     False  False   True     False    False      True   \n",
      "5      buffalo   True     False  False   True     False    False     False   \n",
      "6         calf   True     False  False   True     False    False     False   \n",
      "7         carp  False     False   True  False     False     True     False   \n",
      "8      catfish  False     False   True  False     False     True      True   \n",
      "9         cavy   True     False  False   True     False    False     False   \n",
      "10     cheetah   True     False  False   True     False    False      True   \n",
      "11     chicken  False      True   True  False      True    False     False   \n",
      "12        chub  False     False   True  False     False     True      True   \n",
      "13        clam  False     False   True  False     False    False      True   \n",
      "14        crab  False     False   True  False     False     True      True   \n",
      "15    crayfish  False     False   True  False     False     True      True   \n",
      "16        crow  False      True   True  False      True    False      True   \n",
      "17        deer   True     False  False   True     False    False     False   \n",
      "18     dogfish  False     False   True  False     False     True      True   \n",
      "19     dolphin  False     False  False   True     False     True      True   \n",
      "20        dove  False      True   True  False      True    False     False   \n",
      "21        duck  False      True   True  False      True     True     False   \n",
      "22    elephant   True     False  False   True     False    False     False   \n",
      "23    flamingo  False      True   True  False      True    False     False   \n",
      "24        flea  False     False   True  False     False    False     False   \n",
      "25        frog  False     False   True  False     False     True      True   \n",
      "26        frog  False     False   True  False     False     True      True   \n",
      "27    fruitbat   True     False  False   True      True    False     False   \n",
      "28     giraffe   True     False  False   True     False    False     False   \n",
      "29     gorilla   True     False  False   True     False    False      True   \n",
      "..         ...    ...       ...    ...    ...       ...      ...       ...   \n",
      "71        rhea  False      True   True  False     False    False      True   \n",
      "72    scorpion  False     False  False  False     False    False      True   \n",
      "73    seahorse  False     False   True  False     False     True     False   \n",
      "74        seal   True     False  False   True     False     True      True   \n",
      "75     sealion   True     False  False   True     False     True      True   \n",
      "76    seasnake  False     False  False  False     False     True      True   \n",
      "77     seawasp  False     False   True  False     False     True      True   \n",
      "78     skimmer  False      True   True  False      True     True      True   \n",
      "79        skua  False      True   True  False      True     True      True   \n",
      "80    slowworm  False     False   True  False     False    False      True   \n",
      "81        slug  False     False   True  False     False    False     False   \n",
      "82        sole  False     False   True  False     False     True     False   \n",
      "83     sparrow  False      True   True  False      True    False     False   \n",
      "84    squirrel   True     False  False   True     False    False     False   \n",
      "85    starfish  False     False   True  False     False     True      True   \n",
      "86    stingray  False     False   True  False     False     True      True   \n",
      "87        swan  False      True   True  False      True     True     False   \n",
      "88     termite  False     False   True  False     False    False     False   \n",
      "89        toad  False     False   True  False     False     True     False   \n",
      "90    tortoise  False     False   True  False     False    False     False   \n",
      "91     tuatara  False     False   True  False     False    False      True   \n",
      "92        tuna  False     False   True  False     False     True      True   \n",
      "93     vampire   True     False  False   True      True    False     False   \n",
      "94        vole   True     False  False   True     False    False     False   \n",
      "95     vulture  False      True   True  False      True    False      True   \n",
      "96     wallaby   True     False  False   True     False    False     False   \n",
      "97        wasp   True     False   True  False      True    False     False   \n",
      "98        wolf   True     False  False   True     False    False      True   \n",
      "99        worm  False     False   True  False     False    False     False   \n",
      "100       wren  False      True   True  False      True    False     False   \n",
      "\n",
      "     toothed  backbone  breathes  venomous   fins  legs   tail  domestic  \\\n",
      "0       True      True      True     False  False     4  False     False   \n",
      "1       True      True      True     False  False     4   True     False   \n",
      "2       True      True     False     False   True     0   True     False   \n",
      "3       True      True      True     False  False     4  False     False   \n",
      "4       True      True      True     False  False     4   True     False   \n",
      "5       True      True      True     False  False     4   True     False   \n",
      "6       True      True      True     False  False     4   True      True   \n",
      "7       True      True     False     False   True     0   True      True   \n",
      "8       True      True     False     False   True     0   True     False   \n",
      "9       True      True      True     False  False     4  False      True   \n",
      "10      True      True      True     False  False     4   True     False   \n",
      "11     False      True      True     False  False     2   True      True   \n",
      "12      True      True     False     False   True     0   True     False   \n",
      "13     False     False     False     False  False     0  False     False   \n",
      "14     False     False     False     False  False     4  False     False   \n",
      "15     False     False     False     False  False     6  False     False   \n",
      "16     False      True      True     False  False     2   True     False   \n",
      "17      True      True      True     False  False     4   True     False   \n",
      "18      True      True     False     False   True     0   True     False   \n",
      "19      True      True      True     False   True     0   True     False   \n",
      "20     False      True      True     False  False     2   True      True   \n",
      "21     False      True      True     False  False     2   True     False   \n",
      "22      True      True      True     False  False     4   True     False   \n",
      "23     False      True      True     False  False     2   True     False   \n",
      "24     False     False      True     False  False     6  False     False   \n",
      "25      True      True      True     False  False     4  False     False   \n",
      "26      True      True      True      True  False     4  False     False   \n",
      "27      True      True      True     False  False     2   True     False   \n",
      "28      True      True      True     False  False     4   True     False   \n",
      "29      True      True      True     False  False     2  False      True   \n",
      "..       ...       ...       ...       ...    ...   ...    ...       ...   \n",
      "71     False      True      True     False  False     2   True     False   \n",
      "72     False     False      True      True  False     8   True     False   \n",
      "73      True      True     False     False   True     0   True     False   \n",
      "74      True      True      True     False   True     0  False     False   \n",
      "75      True      True      True     False   True     2   True     False   \n",
      "76      True      True     False      True  False     0   True     False   \n",
      "77     False     False     False      True  False     0  False     False   \n",
      "78     False      True      True     False  False     2   True     False   \n",
      "79     False      True      True     False  False     2   True     False   \n",
      "80      True      True      True     False  False     0   True     False   \n",
      "81     False     False      True     False  False     0  False     False   \n",
      "82      True      True     False     False   True     0   True     False   \n",
      "83     False      True      True     False  False     2   True     False   \n",
      "84      True      True      True     False  False     2   True     False   \n",
      "85     False     False     False     False  False     5  False     False   \n",
      "86      True      True     False      True   True     0   True     False   \n",
      "87     False      True      True     False  False     2   True     False   \n",
      "88     False     False      True     False  False     6  False     False   \n",
      "89      True      True      True     False  False     4  False     False   \n",
      "90     False      True      True     False  False     4   True     False   \n",
      "91      True      True      True     False  False     4   True     False   \n",
      "92      True      True     False     False   True     0   True     False   \n",
      "93      True      True      True     False  False     2   True     False   \n",
      "94      True      True      True     False  False     4   True     False   \n",
      "95     False      True      True     False  False     2   True     False   \n",
      "96      True      True      True     False  False     2   True     False   \n",
      "97     False     False      True      True  False     6  False     False   \n",
      "98      True      True      True     False  False     4   True     False   \n",
      "99     False     False      True     False  False     0  False     False   \n",
      "100    False      True      True     False  False     2   True     False   \n",
      "\n",
      "     catsize          type  \n",
      "0       True        mammal  \n",
      "1       True        mammal  \n",
      "2      False          fish  \n",
      "3       True        mammal  \n",
      "4       True        mammal  \n",
      "5       True        mammal  \n",
      "6       True        mammal  \n",
      "7      False          fish  \n",
      "8      False          fish  \n",
      "9      False        mammal  \n",
      "10      True        mammal  \n",
      "11     False          bird  \n",
      "12     False          fish  \n",
      "13     False  invertebrate  \n",
      "14     False  invertebrate  \n",
      "15     False  invertebrate  \n",
      "16     False          bird  \n",
      "17      True        mammal  \n",
      "18      True          fish  \n",
      "19      True        mammal  \n",
      "20     False          bird  \n",
      "21     False          bird  \n",
      "22      True        mammal  \n",
      "23      True          bird  \n",
      "24     False        insect  \n",
      "25     False     amphibian  \n",
      "26     False     amphibian  \n",
      "27     False        mammal  \n",
      "28      True        mammal  \n",
      "29      True        mammal  \n",
      "..       ...           ...  \n",
      "71      True          bird  \n",
      "72     False  invertebrate  \n",
      "73     False          fish  \n",
      "74      True        mammal  \n",
      "75      True        mammal  \n",
      "76     False       reptile  \n",
      "77     False  invertebrate  \n",
      "78     False          bird  \n",
      "79     False          bird  \n",
      "80     False       reptile  \n",
      "81     False  invertebrate  \n",
      "82     False          fish  \n",
      "83     False          bird  \n",
      "84     False        mammal  \n",
      "85     False  invertebrate  \n",
      "86      True          fish  \n",
      "87      True          bird  \n",
      "88     False        insect  \n",
      "89     False     amphibian  \n",
      "90      True       reptile  \n",
      "91     False       reptile  \n",
      "92      True          fish  \n",
      "93     False        mammal  \n",
      "94     False        mammal  \n",
      "95      True          bird  \n",
      "96      True        mammal  \n",
      "97     False        insect  \n",
      "98      True        mammal  \n",
      "99     False  invertebrate  \n",
      "100    False          bird  \n",
      "\n",
      "[101 rows x 18 columns]\n"
     ]
    }
   ],
   "source": [
    "import pandas as pd\n",
    "fileName = 'zooData.csv'\n",
    "data = pd.read_csv(fileName)\n",
    "print(data)"
   ]
  },
  {
   "cell_type": "code",
   "execution_count": 3,
   "metadata": {},
   "outputs": [
    {
     "name": "stdout",
     "output_type": "stream",
     "text": [
      "0            mammal\n",
      "1            mammal\n",
      "2              fish\n",
      "3            mammal\n",
      "4            mammal\n",
      "5            mammal\n",
      "6            mammal\n",
      "7              fish\n",
      "8              fish\n",
      "9            mammal\n",
      "10           mammal\n",
      "11             bird\n",
      "12             fish\n",
      "13     invertebrate\n",
      "14     invertebrate\n",
      "15     invertebrate\n",
      "16             bird\n",
      "17           mammal\n",
      "18             fish\n",
      "19           mammal\n",
      "20             bird\n",
      "21             bird\n",
      "22           mammal\n",
      "23             bird\n",
      "24           insect\n",
      "25        amphibian\n",
      "26        amphibian\n",
      "27           mammal\n",
      "28           mammal\n",
      "29           mammal\n",
      "           ...     \n",
      "71             bird\n",
      "72     invertebrate\n",
      "73             fish\n",
      "74           mammal\n",
      "75           mammal\n",
      "76          reptile\n",
      "77     invertebrate\n",
      "78             bird\n",
      "79             bird\n",
      "80          reptile\n",
      "81     invertebrate\n",
      "82             fish\n",
      "83             bird\n",
      "84           mammal\n",
      "85     invertebrate\n",
      "86             fish\n",
      "87             bird\n",
      "88           insect\n",
      "89        amphibian\n",
      "90          reptile\n",
      "91          reptile\n",
      "92             fish\n",
      "93           mammal\n",
      "94           mammal\n",
      "95             bird\n",
      "96           mammal\n",
      "97           insect\n",
      "98           mammal\n",
      "99     invertebrate\n",
      "100            bird\n",
      "Name: type, Length: 101, dtype: object\n"
     ]
    }
   ],
   "source": [
    "data.drop(['animalName'], axis=1, inplace=True)\n",
    "Y = data['type']\n",
    "print(Y)"
   ]
  },
  {
   "cell_type": "code",
   "execution_count": 4,
   "metadata": {},
   "outputs": [
    {
     "name": "stdout",
     "output_type": "stream",
     "text": [
      "      hair  feathers   eggs   milk  airborne  aquatic  predator  toothed  \\\n",
      "0     True     False  False   True     False    False      True     True   \n",
      "1     True     False  False   True     False    False     False     True   \n",
      "2    False     False   True  False     False     True      True     True   \n",
      "3     True     False  False   True     False    False      True     True   \n",
      "4     True     False  False   True     False    False      True     True   \n",
      "5     True     False  False   True     False    False     False     True   \n",
      "6     True     False  False   True     False    False     False     True   \n",
      "7    False     False   True  False     False     True     False     True   \n",
      "8    False     False   True  False     False     True      True     True   \n",
      "9     True     False  False   True     False    False     False     True   \n",
      "10    True     False  False   True     False    False      True     True   \n",
      "11   False      True   True  False      True    False     False    False   \n",
      "12   False     False   True  False     False     True      True     True   \n",
      "13   False     False   True  False     False    False      True    False   \n",
      "14   False     False   True  False     False     True      True    False   \n",
      "15   False     False   True  False     False     True      True    False   \n",
      "16   False      True   True  False      True    False      True    False   \n",
      "17    True     False  False   True     False    False     False     True   \n",
      "18   False     False   True  False     False     True      True     True   \n",
      "19   False     False  False   True     False     True      True     True   \n",
      "20   False      True   True  False      True    False     False    False   \n",
      "21   False      True   True  False      True     True     False    False   \n",
      "22    True     False  False   True     False    False     False     True   \n",
      "23   False      True   True  False      True    False     False    False   \n",
      "24   False     False   True  False     False    False     False    False   \n",
      "25   False     False   True  False     False     True      True     True   \n",
      "26   False     False   True  False     False     True      True     True   \n",
      "27    True     False  False   True      True    False     False     True   \n",
      "28    True     False  False   True     False    False     False     True   \n",
      "29    True     False  False   True     False    False      True     True   \n",
      "..     ...       ...    ...    ...       ...      ...       ...      ...   \n",
      "71   False      True   True  False     False    False      True    False   \n",
      "72   False     False  False  False     False    False      True    False   \n",
      "73   False     False   True  False     False     True     False     True   \n",
      "74    True     False  False   True     False     True      True     True   \n",
      "75    True     False  False   True     False     True      True     True   \n",
      "76   False     False  False  False     False     True      True     True   \n",
      "77   False     False   True  False     False     True      True    False   \n",
      "78   False      True   True  False      True     True      True    False   \n",
      "79   False      True   True  False      True     True      True    False   \n",
      "80   False     False   True  False     False    False      True     True   \n",
      "81   False     False   True  False     False    False     False    False   \n",
      "82   False     False   True  False     False     True     False     True   \n",
      "83   False      True   True  False      True    False     False    False   \n",
      "84    True     False  False   True     False    False     False     True   \n",
      "85   False     False   True  False     False     True      True    False   \n",
      "86   False     False   True  False     False     True      True     True   \n",
      "87   False      True   True  False      True     True     False    False   \n",
      "88   False     False   True  False     False    False     False    False   \n",
      "89   False     False   True  False     False     True     False     True   \n",
      "90   False     False   True  False     False    False     False    False   \n",
      "91   False     False   True  False     False    False      True     True   \n",
      "92   False     False   True  False     False     True      True     True   \n",
      "93    True     False  False   True      True    False     False     True   \n",
      "94    True     False  False   True     False    False     False     True   \n",
      "95   False      True   True  False      True    False      True    False   \n",
      "96    True     False  False   True     False    False     False     True   \n",
      "97    True     False   True  False      True    False     False    False   \n",
      "98    True     False  False   True     False    False      True     True   \n",
      "99   False     False   True  False     False    False     False    False   \n",
      "100  False      True   True  False      True    False     False    False   \n",
      "\n",
      "     backbone  breathes  venomous   fins  legs   tail  domestic  catsize  \n",
      "0        True      True     False  False     4  False     False     True  \n",
      "1        True      True     False  False     4   True     False     True  \n",
      "2        True     False     False   True     0   True     False    False  \n",
      "3        True      True     False  False     4  False     False     True  \n",
      "4        True      True     False  False     4   True     False     True  \n",
      "5        True      True     False  False     4   True     False     True  \n",
      "6        True      True     False  False     4   True      True     True  \n",
      "7        True     False     False   True     0   True      True    False  \n",
      "8        True     False     False   True     0   True     False    False  \n",
      "9        True      True     False  False     4  False      True    False  \n",
      "10       True      True     False  False     4   True     False     True  \n",
      "11       True      True     False  False     2   True      True    False  \n",
      "12       True     False     False   True     0   True     False    False  \n",
      "13      False     False     False  False     0  False     False    False  \n",
      "14      False     False     False  False     4  False     False    False  \n",
      "15      False     False     False  False     6  False     False    False  \n",
      "16       True      True     False  False     2   True     False    False  \n",
      "17       True      True     False  False     4   True     False     True  \n",
      "18       True     False     False   True     0   True     False     True  \n",
      "19       True      True     False   True     0   True     False     True  \n",
      "20       True      True     False  False     2   True      True    False  \n",
      "21       True      True     False  False     2   True     False    False  \n",
      "22       True      True     False  False     4   True     False     True  \n",
      "23       True      True     False  False     2   True     False     True  \n",
      "24      False      True     False  False     6  False     False    False  \n",
      "25       True      True     False  False     4  False     False    False  \n",
      "26       True      True      True  False     4  False     False    False  \n",
      "27       True      True     False  False     2   True     False    False  \n",
      "28       True      True     False  False     4   True     False     True  \n",
      "29       True      True     False  False     2  False      True     True  \n",
      "..        ...       ...       ...    ...   ...    ...       ...      ...  \n",
      "71       True      True     False  False     2   True     False     True  \n",
      "72      False      True      True  False     8   True     False    False  \n",
      "73       True     False     False   True     0   True     False    False  \n",
      "74       True      True     False   True     0  False     False     True  \n",
      "75       True      True     False   True     2   True     False     True  \n",
      "76       True     False      True  False     0   True     False    False  \n",
      "77      False     False      True  False     0  False     False    False  \n",
      "78       True      True     False  False     2   True     False    False  \n",
      "79       True      True     False  False     2   True     False    False  \n",
      "80       True      True     False  False     0   True     False    False  \n",
      "81      False      True     False  False     0  False     False    False  \n",
      "82       True     False     False   True     0   True     False    False  \n",
      "83       True      True     False  False     2   True     False    False  \n",
      "84       True      True     False  False     2   True     False    False  \n",
      "85      False     False     False  False     5  False     False    False  \n",
      "86       True     False      True   True     0   True     False     True  \n",
      "87       True      True     False  False     2   True     False     True  \n",
      "88      False      True     False  False     6  False     False    False  \n",
      "89       True      True     False  False     4  False     False    False  \n",
      "90       True      True     False  False     4   True     False     True  \n",
      "91       True      True     False  False     4   True     False    False  \n",
      "92       True     False     False   True     0   True     False     True  \n",
      "93       True      True     False  False     2   True     False    False  \n",
      "94       True      True     False  False     4   True     False    False  \n",
      "95       True      True     False  False     2   True     False     True  \n",
      "96       True      True     False  False     2   True     False     True  \n",
      "97      False      True      True  False     6  False     False    False  \n",
      "98       True      True     False  False     4   True     False     True  \n",
      "99      False      True     False  False     0  False     False    False  \n",
      "100      True      True     False  False     2   True     False    False  \n",
      "\n",
      "[101 rows x 16 columns]\n"
     ]
    }
   ],
   "source": [
    "data.drop(['type'], axis=1, inplace=True)\n",
    "X = data\n",
    "print(X)"
   ]
  },
  {
   "cell_type": "code",
   "execution_count": 5,
   "metadata": {},
   "outputs": [],
   "source": [
    "# Problem 2"
   ]
  },
  {
   "cell_type": "code",
   "execution_count": 6,
   "metadata": {},
   "outputs": [
    {
     "name": "stdout",
     "output_type": "stream",
     "text": [
      "Training Accuracy:  1.0\n"
     ]
    }
   ],
   "source": [
    "# using training set\n",
    "from sklearn import tree\n",
    "clf = tree.DecisionTreeClassifier()\n",
    "clf = clf.fit(X,Y)\n",
    "print('Training Accuracy: ',clf.score(X,Y)) # Training accuracy"
   ]
  },
  {
   "cell_type": "code",
   "execution_count": 7,
   "metadata": {},
   "outputs": [
    {
     "name": "stdout",
     "output_type": "stream",
     "text": [
      "Test Accuracy:  0.9705882352941176\n"
     ]
    }
   ],
   "source": [
    "# by splitting the data as 2/3 for training and 1/3 for testing\n",
    "from sklearn.model_selection import train_test_split\n",
    "X_train , X_test , Y_train , Y_test = train_test_split(X, Y, test_size =0.333,random_state =0)\n",
    "clf.fit(X_train ,Y_train) # clf is a classifier.\n",
    "print('Test Accuracy: ',clf.score(X_test ,Y_test )) # Test accuracy"
   ]
  },
  {
   "cell_type": "code",
   "execution_count": 8,
   "metadata": {},
   "outputs": [
    {
     "name": "stdout",
     "output_type": "stream",
     "text": [
      "[1.         0.91666667 0.91666667 0.90909091 0.9        0.88888889\n",
      " 1.         1.         1.         1.        ]\n",
      "10CV Accuracy: 0.95 (+/- 0.09)\n"
     ]
    },
    {
     "name": "stderr",
     "output_type": "stream",
     "text": [
      "E:\\Program files\\Anaconda\\lib\\site-packages\\sklearn\\model_selection\\_split.py:605: Warning: The least populated class in y has only 4 members, which is too few. The minimum number of members in any class cannot be less than n_splits=10.\n",
      "  % (min_groups, self.n_splits)), Warning)\n"
     ]
    }
   ],
   "source": [
    "# 10-fold cross validation\n",
    "from sklearn.model_selection import cross_val_score\n",
    "scores = cross_val_score(clf, X, Y, cv=10) # 10-fold cross validation\n",
    "print(scores) # Results for all the folds\n",
    "print(\"10CV Accuracy: %0.2f (+/- %0.2f)\" % (scores.mean(),scores.std()*2))"
   ]
  },
  {
   "cell_type": "code",
   "execution_count": 9,
   "metadata": {},
   "outputs": [],
   "source": [
    "# 10 fold cross validation provides more realistic future performance as it uses the whole test set as trainnig set and also as the test set in each fold"
   ]
  },
  {
   "cell_type": "code",
   "execution_count": 10,
   "metadata": {},
   "outputs": [],
   "source": [
    "# Problem 3"
   ]
  },
  {
   "cell_type": "code",
   "execution_count": 11,
   "metadata": {},
   "outputs": [],
   "source": [
    "# it doesn't make any sense of having confusion matrix in trainning set where accuracy is 1.0 (diagonal matrix)"
   ]
  },
  {
   "cell_type": "code",
   "execution_count": 12,
   "metadata": {
    "scrolled": true
   },
   "outputs": [
    {
     "name": "stdout",
     "output_type": "stream",
     "text": [
      "[[ 1  0  0  0  0  0  0]\n",
      " [ 0  6  0  0  0  0  0]\n",
      " [ 0  0  7  0  0  0  0]\n",
      " [ 0  0  0  2  0  0  0]\n",
      " [ 0  0  0  0  2  0  0]\n",
      " [ 0  0  0  0  0 12  0]\n",
      " [ 4  0  0  0  0  0  0]]\n"
     ]
    }
   ],
   "source": [
    "# by splitting the data as 2/3 for training and 1/3 for testing\n",
    "from sklearn.metrics import confusion_matrix\n",
    "from sklearn import tree\n",
    "clf = tree.DecisionTreeClassifier()\n",
    "X_train , X_test , Y_train , Y_test = train_test_split(X, Y, test_size =0.333,random_state =0)\n",
    "clf.fit(X_train ,Y_train) # clf is a classifier.\n",
    "Y_pred = clf.fit(X_train , Y_train ).predict(X_test)\n",
    "print(confusion_matrix(Y_test , Y_pred ))"
   ]
  },
  {
   "cell_type": "code",
   "execution_count": 13,
   "metadata": {},
   "outputs": [],
   "source": [
    "# in above confusion matrix 4 classification errors have happend. (7 classified as 1) "
   ]
  },
  {
   "cell_type": "code",
   "execution_count": 14,
   "metadata": {},
   "outputs": [
    {
     "name": "stdout",
     "output_type": "stream",
     "text": [
      "[[ 1  0  0  0  0  0  0]\n",
      " [ 0  6  0  0  0  0  0]\n",
      " [ 0  0  7  0  0  0  0]\n",
      " [ 0  0  0  2  0  0  0]\n",
      " [ 0  0  0  0  2  0  0]\n",
      " [ 0  0  0  0  0 12  0]\n",
      " [ 1  0  0  0  2  1  0]]\n"
     ]
    }
   ],
   "source": [
    "from sklearn.naive_bayes import GaussianNB\n",
    "clf = GaussianNB()\n",
    "clf.fit(X,Y)\n",
    "X_train , X_test , Y_train , Y_test = train_test_split(X, Y, test_size =0.333,random_state =0)\n",
    "clf.fit(X_train ,Y_train) # clf is a classifier.\n",
    "Y_pred = clf.fit(X_train , Y_train ).predict(X_test)\n",
    "print(confusion_matrix(Y_test , Y_pred ))"
   ]
  },
  {
   "cell_type": "code",
   "execution_count": 15,
   "metadata": {},
   "outputs": [],
   "source": [
    "# in above confusion matrix 4 classification errors have happend. (7 classified as 1, 5 & 6) "
   ]
  },
  {
   "cell_type": "code",
   "execution_count": 16,
   "metadata": {},
   "outputs": [
    {
     "name": "stdout",
     "output_type": "stream",
     "text": [
      "[[ 0  0  0  0  1  0  0]\n",
      " [ 0  6  0  0  0  0  0]\n",
      " [ 0  0  7  0  0  0  0]\n",
      " [ 0  0  0  2  0  0  0]\n",
      " [ 0  0  0  0  2  0  0]\n",
      " [ 0  0  0  0  0 12  0]\n",
      " [ 0  0  3  0  0  1  0]]\n"
     ]
    }
   ],
   "source": [
    "from sklearn.naive_bayes import MultinomialNB\n",
    "clf=MultinomialNB() # clf is a classifier.\n",
    "clf.fit(X,Y)\n",
    "X_train , X_test , Y_train , Y_test = train_test_split(X, Y, test_size =0.333,random_state =0)\n",
    "clf.fit(X_train ,Y_train) # clf is a classifier.\n",
    "Y_pred = clf.fit(X_train , Y_train ).predict(X_test)\n",
    "print(confusion_matrix(Y_test , Y_pred ))"
   ]
  },
  {
   "cell_type": "code",
   "execution_count": 17,
   "metadata": {},
   "outputs": [],
   "source": [
    "# in above confusion matrix 5 classification errors have happend. (7 classified as 2 & 6, 1 classified as 5) "
   ]
  },
  {
   "cell_type": "code",
   "execution_count": 18,
   "metadata": {},
   "outputs": [
    {
     "name": "stdout",
     "output_type": "stream",
     "text": [
      "[[ 1  0  0  0  0  0  0]\n",
      " [ 0  6  0  0  0  0  0]\n",
      " [ 0  0  7  0  0  0  0]\n",
      " [ 0  0  0  2  0  0  0]\n",
      " [ 0  0  0  0  2  0  0]\n",
      " [ 0  0  0  0  0 12  0]\n",
      " [ 1  0  3  0  0  0  0]]\n"
     ]
    }
   ],
   "source": [
    "from sklearn import neighbors , datasets\n",
    "clf = neighbors.KNeighborsClassifier(n_neighbors =1) # 1-Nearest Neighbor\n",
    "clf.fit(X,Y) # Model\n",
    "X_train , X_test , Y_train , Y_test = train_test_split(X, Y, test_size =0.333,random_state =0)\n",
    "clf.fit(X_train ,Y_train) # clf is a classifier.\n",
    "Y_pred = clf.fit(X_train , Y_train ).predict(X_test)\n",
    "print(confusion_matrix(Y_test , Y_pred ))"
   ]
  },
  {
   "cell_type": "code",
   "execution_count": 19,
   "metadata": {},
   "outputs": [],
   "source": [
    "# in above confusion matrix 4 classification errors have happend. (7 classified as 1 & 3) "
   ]
  },
  {
   "cell_type": "code",
   "execution_count": 20,
   "metadata": {},
   "outputs": [
    {
     "name": "stdout",
     "output_type": "stream",
     "text": [
      "[[ 1  0  0  0  0  0  0]\n",
      " [ 0  6  0  0  0  0  0]\n",
      " [ 0  0  7  0  0  0  0]\n",
      " [ 0  0  0  2  0  0  0]\n",
      " [ 0  0  0  0  2  0  0]\n",
      " [ 0  0  0  0  0 12  0]\n",
      " [ 1  0  3  0  0  0  0]]\n"
     ]
    }
   ],
   "source": [
    "from sklearn import svm\n",
    "clf = svm.SVC(kernel='linear', C=1,gamma=1).fit(X, Y) # clf is a classifier\n",
    "clf.fit(X,Y) # Model\n",
    "X_train , X_test , Y_train , Y_test = train_test_split(X, Y, test_size =0.333,random_state =0)\n",
    "clf.fit(X_train ,Y_train) # clf is a classifier.\n",
    "Y_pred = clf.fit(X_train , Y_train ).predict(X_test)\n",
    "print(confusion_matrix(Y_test , Y_pred ))"
   ]
  },
  {
   "cell_type": "code",
   "execution_count": 21,
   "metadata": {},
   "outputs": [],
   "source": [
    "# in above confusion matrix 4 classification errors have happend. (7 classified as 1 & 3) "
   ]
  },
  {
   "cell_type": "code",
   "execution_count": 22,
   "metadata": {},
   "outputs": [],
   "source": [
    "# Problem 4"
   ]
  },
  {
   "cell_type": "code",
   "execution_count": 23,
   "metadata": {},
   "outputs": [
    {
     "name": "stdout",
     "output_type": "stream",
     "text": [
      "[1.         0.91666667 0.91666667 0.90909091 0.9        0.88888889\n",
      " 1.         1.         1.         1.        ]\n",
      "10CV Accuracy: 0.95 (+/- 0.09)\n"
     ]
    },
    {
     "name": "stderr",
     "output_type": "stream",
     "text": [
      "E:\\Program files\\Anaconda\\lib\\site-packages\\sklearn\\model_selection\\_split.py:605: Warning: The least populated class in y has only 4 members, which is too few. The minimum number of members in any class cannot be less than n_splits=10.\n",
      "  % (min_groups, self.n_splits)), Warning)\n"
     ]
    }
   ],
   "source": [
    "from sklearn import tree\n",
    "clf = tree.DecisionTreeClassifier()\n",
    "clf.fit(X,Y)\n",
    "from sklearn.model_selection import cross_val_score\n",
    "scores = cross_val_score(clf, X, Y, cv=10) # 10-fold cross validation\n",
    "print(scores) # Results for all the folds\n",
    "print(\"10CV Accuracy: %0.2f (+/- %0.2f)\" % (scores.mean(),scores.std()*2))"
   ]
  },
  {
   "cell_type": "code",
   "execution_count": 24,
   "metadata": {},
   "outputs": [
    {
     "name": "stdout",
     "output_type": "stream",
     "text": [
      "[1.         0.91666667 0.91666667 0.90909091 1.         0.88888889\n",
      " 0.88888889 1.         1.         1.        ]\n",
      "10CV Accuracy: 0.95 (+/- 0.10)\n"
     ]
    },
    {
     "name": "stderr",
     "output_type": "stream",
     "text": [
      "E:\\Program files\\Anaconda\\lib\\site-packages\\sklearn\\model_selection\\_split.py:605: Warning: The least populated class in y has only 4 members, which is too few. The minimum number of members in any class cannot be less than n_splits=10.\n",
      "  % (min_groups, self.n_splits)), Warning)\n"
     ]
    }
   ],
   "source": [
    "from sklearn.naive_bayes import GaussianNB\n",
    "clf = GaussianNB()\n",
    "clf.fit(X,Y)\n",
    "from sklearn.model_selection import cross_val_score\n",
    "scores = cross_val_score(clf, X, Y, cv=10) # 10-fold cross validation\n",
    "print(scores) # Results for all the folds\n",
    "print(\"10CV Accuracy: %0.2f (+/- %0.2f)\" % (scores.mean(),scores.std()*2))"
   ]
  },
  {
   "cell_type": "code",
   "execution_count": 25,
   "metadata": {},
   "outputs": [
    {
     "name": "stdout",
     "output_type": "stream",
     "text": [
      "[0.92307692 0.91666667 0.83333333 0.90909091 0.9        0.88888889\n",
      " 0.88888889 0.77777778 1.         0.875     ]\n",
      "10CV Accuracy: 0.89 (+/- 0.11)\n"
     ]
    },
    {
     "name": "stderr",
     "output_type": "stream",
     "text": [
      "E:\\Program files\\Anaconda\\lib\\site-packages\\sklearn\\model_selection\\_split.py:605: Warning: The least populated class in y has only 4 members, which is too few. The minimum number of members in any class cannot be less than n_splits=10.\n",
      "  % (min_groups, self.n_splits)), Warning)\n"
     ]
    }
   ],
   "source": [
    "from sklearn.naive_bayes import MultinomialNB\n",
    "clf=MultinomialNB() # clf is a classifier.\n",
    "clf.fit(X,Y)\n",
    "from sklearn.model_selection import cross_val_score\n",
    "scores = cross_val_score(clf, X, Y, cv=10) # 10-fold cross validation\n",
    "print(scores) # Results for all the folds\n",
    "print(\"10CV Accuracy: %0.2f (+/- %0.2f)\" % (scores.mean(),scores.std()*2))"
   ]
  },
  {
   "cell_type": "code",
   "execution_count": 26,
   "metadata": {},
   "outputs": [
    {
     "name": "stdout",
     "output_type": "stream",
     "text": [
      "[1.         0.91666667 1.         1.         0.9        1.\n",
      " 1.         1.         1.         1.        ]\n",
      "10CV Accuracy: 0.98 (+/- 0.07)\n"
     ]
    },
    {
     "name": "stderr",
     "output_type": "stream",
     "text": [
      "E:\\Program files\\Anaconda\\lib\\site-packages\\sklearn\\model_selection\\_split.py:605: Warning: The least populated class in y has only 4 members, which is too few. The minimum number of members in any class cannot be less than n_splits=10.\n",
      "  % (min_groups, self.n_splits)), Warning)\n"
     ]
    }
   ],
   "source": [
    "from sklearn import neighbors , datasets\n",
    "clf = neighbors.KNeighborsClassifier(n_neighbors =1) # 1-Nearest Neighbor\n",
    "clf.fit(X,Y) # Model\n",
    "from sklearn.model_selection import cross_val_score\n",
    "scores = cross_val_score(clf, X, Y, cv=10) # 10-fold cross validation\n",
    "print(scores) # Results for all the folds\n",
    "print(\"10CV Accuracy: %0.2f (+/- %0.2f)\" % (scores.mean(),scores.std()*2))"
   ]
  },
  {
   "cell_type": "code",
   "execution_count": 27,
   "metadata": {},
   "outputs": [
    {
     "name": "stdout",
     "output_type": "stream",
     "text": [
      "[1.         0.91666667 0.91666667 0.90909091 0.9        0.88888889\n",
      " 1.         1.         1.         1.        ]\n",
      "10CV Accuracy: 0.95 (+/- 0.09)\n"
     ]
    },
    {
     "name": "stderr",
     "output_type": "stream",
     "text": [
      "E:\\Program files\\Anaconda\\lib\\site-packages\\sklearn\\model_selection\\_split.py:605: Warning: The least populated class in y has only 4 members, which is too few. The minimum number of members in any class cannot be less than n_splits=10.\n",
      "  % (min_groups, self.n_splits)), Warning)\n"
     ]
    }
   ],
   "source": [
    "from sklearn import svm\n",
    "clf = svm.SVC(kernel='linear', C=1,gamma=1).fit(X, Y) # clf is a classifier\n",
    "clf.fit(X,Y) # Model\n",
    "from sklearn.model_selection import cross_val_score\n",
    "scores = cross_val_score(clf, X, Y, cv=10) # 10-fold cross validation\n",
    "print(scores) # Results for all the folds\n",
    "print(\"10CV Accuracy: %0.2f (+/- %0.2f)\" % (scores.mean(),scores.std()*2))"
   ]
  },
  {
   "cell_type": "code",
   "execution_count": 28,
   "metadata": {},
   "outputs": [],
   "source": [
    "# problem 5"
   ]
  },
  {
   "cell_type": "code",
   "execution_count": 29,
   "metadata": {},
   "outputs": [
    {
     "name": "stderr",
     "output_type": "stream",
     "text": [
      "E:\\Program files\\Anaconda\\lib\\site-packages\\sklearn\\ensemble\\weight_boosting.py:29: DeprecationWarning: numpy.core.umath_tests is an internal NumPy module and should not be imported. It will be removed in a future NumPy release.\n",
      "  from numpy.core.umath_tests import inner1d\n",
      "E:\\Program files\\Anaconda\\lib\\site-packages\\sklearn\\model_selection\\_split.py:605: Warning: The least populated class in y has only 4 members, which is too few. The minimum number of members in any class cannot be less than n_splits=10.\n",
      "  % (min_groups, self.n_splits)), Warning)\n"
     ]
    },
    {
     "name": "stdout",
     "output_type": "stream",
     "text": [
      "[1.         0.91666667 0.91666667 1.         0.9        0.88888889\n",
      " 1.         1.         1.         1.        ]\n",
      "10CV Accuracy: 0.96 (+/- 0.09)\n"
     ]
    }
   ],
   "source": [
    "from sklearn.ensemble import RandomForestClassifier\n",
    "clf=RandomForestClassifier(n_estimators=100)\n",
    "clf.fit(X,Y) # Model\n",
    "from sklearn.model_selection import cross_val_score\n",
    "scores = cross_val_score(clf, X, Y, cv=10) # 10-fold cross validation\n",
    "print(scores) # Results for all the folds\n",
    "print(\"10CV Accuracy: %0.2f (+/- %0.2f)\" % (scores.mean(),scores.std()*2))"
   ]
  },
  {
   "cell_type": "code",
   "execution_count": null,
   "metadata": {},
   "outputs": [],
   "source": []
  }
 ],
 "metadata": {
  "kernelspec": {
   "display_name": "Python 3",
   "language": "python",
   "name": "python3"
  },
  "language_info": {
   "codemirror_mode": {
    "name": "ipython",
    "version": 3
   },
   "file_extension": ".py",
   "mimetype": "text/x-python",
   "name": "python",
   "nbconvert_exporter": "python",
   "pygments_lexer": "ipython3",
   "version": "3.7.0"
  }
 },
 "nbformat": 4,
 "nbformat_minor": 2
}
