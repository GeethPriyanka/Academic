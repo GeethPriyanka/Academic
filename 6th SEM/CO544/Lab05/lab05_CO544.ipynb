{
 "cells": [
  {
   "cell_type": "code",
   "execution_count": 1,
   "metadata": {},
   "outputs": [
    {
     "name": "stdout",
     "output_type": "stream",
     "text": [
      "Training Accuracy:  0.96\n"
     ]
    }
   ],
   "source": [
    "import numpy as np\n",
    "from sklearn import datasets\n",
    "iris = datasets.load_iris()\n",
    "X = iris.data\n",
    "Y = iris.target\n",
    "\n",
    "from sklearn.naive_bayes import GaussianNB\n",
    "clf = GaussianNB() # clf is a classifier\n",
    "clf.fit(X,Y)\n",
    "print('Training Accuracy: ',clf.score(X,Y)) # Training accuracy"
   ]
  },
  {
   "cell_type": "code",
   "execution_count": 2,
   "metadata": {},
   "outputs": [
    {
     "name": "stdout",
     "output_type": "stream",
     "text": [
      "Training Accuracy:  0.9533333333333334\n"
     ]
    }
   ],
   "source": [
    "from sklearn.naive_bayes import MultinomialNB\n",
    "clf=MultinomialNB() # clf is a classifier.\n",
    "clf.fit(X,Y)\n",
    "print('Training Accuracy: ',clf.score(X,Y)) # Training accuracy"
   ]
  },
  {
   "cell_type": "code",
   "execution_count": 3,
   "metadata": {},
   "outputs": [
    {
     "name": "stdout",
     "output_type": "stream",
     "text": [
      "Training Accuracy:  1.0\n"
     ]
    }
   ],
   "source": [
    "from sklearn import neighbors , datasets\n",
    "clf = neighbors.KNeighborsClassifier(n_neighbors =1) # 1-Nearest Neighbor\n",
    "clf.fit(X,Y) # Model\n",
    "print('Training Accuracy: ',clf.score(X,Y)) # Training accuracy"
   ]
  },
  {
   "cell_type": "code",
   "execution_count": 20,
   "metadata": {},
   "outputs": [
    {
     "name": "stdout",
     "output_type": "stream",
     "text": [
      "[[1 0 0 0]\n",
      " [0 1 0 0]\n",
      " [0 0 1 0]\n",
      " [0 0 0 1]]\n"
     ]
    }
   ],
   "source": [
    "from sklearn.metrics import confusion_matrix\n",
    "print(confusion_matrix(Y , Y))"
   ]
  },
  {
   "cell_type": "code",
   "execution_count": 4,
   "metadata": {},
   "outputs": [
    {
     "name": "stdout",
     "output_type": "stream",
     "text": [
      "Training Accuracy:  0.9933333333333333\n"
     ]
    }
   ],
   "source": [
    "from sklearn import svm\n",
    "clf = svm.SVC(kernel='linear', C=1,gamma=1).fit(X, Y) # clf is a classifier\n",
    "clf.fit(X,Y) # Model\n",
    "print('Training Accuracy: ',clf.score(X,Y)) # Training accuracy"
   ]
  },
  {
   "cell_type": "code",
   "execution_count": 6,
   "metadata": {},
   "outputs": [
    {
     "name": "stdout",
     "output_type": "stream",
     "text": [
      "Test Accuracy:  0.98\n"
     ]
    }
   ],
   "source": [
    "# split data as 2/3 for training and 1/3 for testing\n",
    "from sklearn.model_selection import train_test_split\n",
    "X_train , X_test , Y_train , Y_test = train_test_split(X, Y, test_size =0.333,random_state =0)\n",
    "clf.fit(X_train ,Y_train) # clf is a classifier.\n",
    "print('Test Accuracy: ',clf.score(X_test ,Y_test )) # Test accuracy"
   ]
  },
  {
   "cell_type": "code",
   "execution_count": 7,
   "metadata": {},
   "outputs": [
    {
     "name": "stdout",
     "output_type": "stream",
     "text": [
      "[1.         0.93333333 1.         1.         0.86666667 1.\n",
      " 0.93333333 1.         1.         1.        ]\n",
      "10CV Accuracy: 0.97 (+/- 0.09)\n"
     ]
    }
   ],
   "source": [
    "from sklearn.model_selection import cross_val_score\n",
    "scores = cross_val_score(clf, X, Y, cv=10) # 10-fold cross validation\n",
    "print(scores) # Results for all the folds\n",
    "print(\"10CV Accuracy: %0.2f (+/- %0.2f)\" % (scores.mean(),scores.std()*2))"
   ]
  },
  {
   "cell_type": "code",
   "execution_count": 8,
   "metadata": {},
   "outputs": [
    {
     "name": "stdout",
     "output_type": "stream",
     "text": [
      "[[16  0  0]\n",
      " [ 0 18  1]\n",
      " [ 0  0 15]]\n"
     ]
    }
   ],
   "source": [
    "from sklearn.metrics import confusion_matrix\n",
    "Y_pred = clf.fit(X_train , Y_train ).predict(X_test)\n",
    "print(confusion_matrix(Y_test , Y_pred ))"
   ]
  },
  {
   "cell_type": "code",
   "execution_count": 22,
   "metadata": {},
   "outputs": [
    {
     "name": "stdout",
     "output_type": "stream",
     "text": [
      "[2 1 0 2 0 2 0 1 1 1 2 1 1 1 1 0 1 1 0 0 2 1 0 0 2 0 0 1 1 0 2 1 0 2 2 1 0\n",
      " 2 1 1 2 0 2 0 0 1 2 2 2 2]\n"
     ]
    }
   ],
   "source": [
    "print(Y_pred)"
   ]
  },
  {
   "cell_type": "code",
   "execution_count": 9,
   "metadata": {
    "scrolled": true
   },
   "outputs": [
    {
     "name": "stdout",
     "output_type": "stream",
     "text": [
      "             precision    recall  f1-score   support\n",
      "\n",
      "     setosa       1.00      1.00      1.00        16\n",
      " versicolor       1.00      0.95      0.97        19\n",
      "  virginica       0.94      1.00      0.97        15\n",
      "\n",
      "avg / total       0.98      0.98      0.98        50\n",
      "\n"
     ]
    }
   ],
   "source": [
    "from sklearn.metrics import classification_report\n",
    "target_names =['setosa', 'versicolor', 'virginica'] # provide class labels\n",
    "print(classification_report(Y_test , Y_pred , target_names=target_names ))"
   ]
  },
  {
   "cell_type": "code",
   "execution_count": 10,
   "metadata": {},
   "outputs": [],
   "source": [
    "# 5 Lab exercise"
   ]
  },
  {
   "cell_type": "code",
   "execution_count": 11,
   "metadata": {},
   "outputs": [
    {
     "name": "stdout",
     "output_type": "stream",
     "text": [
      "Training Accuracy:  1.0\n"
     ]
    }
   ],
   "source": [
    "import pandas as pd\n",
    "fileName = 'zooData.csv'\n",
    "data = pd.read_csv(fileName)\n",
    "#print(data)\n",
    "\n",
    "data.drop(['animalName'], axis=1, inplace=True)\n",
    "Y = data['type']\n",
    "data.drop(['type'], axis=1, inplace=True)\n",
    "X = data\n",
    "\n",
    "from sklearn.naive_bayes import GaussianNB\n",
    "clf = GaussianNB() # clf is a classifier\n",
    "clf.fit(X,Y)\n",
    "print('Training Accuracy: ',clf.score(X,Y)) # Training accuracy"
   ]
  },
  {
   "cell_type": "code",
   "execution_count": 12,
   "metadata": {},
   "outputs": [],
   "source": [
    "from sklearn import tree\n",
    "X = [[140, 1],[130, 1], [150, 0], [170, 0]]\n",
    "Y = [1, 2, 3, 4]\n",
    "clf = tree.DecisionTreeClassifier()\n",
    "clf = clf.fit(X, Y)"
   ]
  },
  {
   "cell_type": "code",
   "execution_count": 13,
   "metadata": {},
   "outputs": [
    {
     "data": {
      "text/plain": [
       "array([1])"
      ]
     },
     "execution_count": 13,
     "metadata": {},
     "output_type": "execute_result"
    }
   ],
   "source": [
    "clf.predict([[170,1]])"
   ]
  },
  {
   "cell_type": "code",
   "execution_count": 14,
   "metadata": {},
   "outputs": [
    {
     "data": {
      "text/plain": [
       "array([[1., 0., 0., 0.]])"
      ]
     },
     "execution_count": 14,
     "metadata": {},
     "output_type": "execute_result"
    }
   ],
   "source": [
    "clf.predict_proba ([[170,1]])"
   ]
  },
  {
   "cell_type": "code",
   "execution_count": 15,
   "metadata": {},
   "outputs": [],
   "source": [
    "from sklearn.datasets import load_iris\n",
    "from sklearn import tree\n",
    "iris = load_iris ()\n",
    "clf = tree.DecisionTreeClassifier()\n",
    "clf = clf.fit(iris.data , iris.target)"
   ]
  },
  {
   "cell_type": "code",
   "execution_count": 16,
   "metadata": {},
   "outputs": [
    {
     "data": {
      "text/plain": [
       "True"
      ]
     },
     "execution_count": 16,
     "metadata": {},
     "output_type": "execute_result"
    }
   ],
   "source": [
    "import pydotplus\n",
    "dot_data = tree.export_graphviz(clf, out_file=None)\n",
    "graph = pydotplus.graph_from_dot_data(dot_data)\n",
    "graph.write_pdf(\"iris.pdf\")"
   ]
  },
  {
   "cell_type": "code",
   "execution_count": 17,
   "metadata": {},
   "outputs": [
    {
     "data": {
      "text/plain": [
       "True"
      ]
     },
     "execution_count": 17,
     "metadata": {},
     "output_type": "execute_result"
    }
   ],
   "source": [
    "from IPython.display import Image\n",
    "dot_data = tree.export_graphviz(clf,out_file=None,feature_names=iris.feature_names,class_names=iris.target_names ,filled=True , rounded=True ,special_characters=True)\n",
    "graph = pydotplus.graph_from_dot_data (dot_data)\n",
    "Image(graph.create_png())\n",
    "graph.write_png(\"iris.png\")"
   ]
  },
  {
   "cell_type": "code",
   "execution_count": 18,
   "metadata": {},
   "outputs": [
    {
     "data": {
      "text/plain": [
       "array([0])"
      ]
     },
     "execution_count": 18,
     "metadata": {},
     "output_type": "execute_result"
    }
   ],
   "source": [
    "clf.predict(iris.data[:1, :])"
   ]
  },
  {
   "cell_type": "code",
   "execution_count": 19,
   "metadata": {},
   "outputs": [
    {
     "data": {
      "text/plain": [
       "array([[1., 0., 0.]])"
      ]
     },
     "execution_count": 19,
     "metadata": {},
     "output_type": "execute_result"
    }
   ],
   "source": [
    "clf.predict_proba(iris.data[:1, :])"
   ]
  },
  {
   "cell_type": "code",
   "execution_count": 38,
   "metadata": {},
   "outputs": [],
   "source": [
    "# binarization\n",
    "import pandas\n",
    "filename = 'breaset-cancer.csv'\n",
    "data = pandas.read_csv(filename, encoding = \"ISO-8859-1\")\n",
    "#print(data.shape) #make sure the whole data is being read\n",
    "data = data.dropna()  # records with missing values are dropped here\n",
    "#print(data.shape) # data without missing values\n",
    "#print(data)\n",
    "#data.INCOMEPERPERSON.iloc[0:] = -5000\n",
    "#print (data)\n",
    "\n",
    "import numpy as np\n",
    "from sklearn.preprocessing import Binarizer\n",
    "data.drop(['COUNTRY'], axis=1, inplace=True)\n",
    "#datap = data.values\n",
    "data.BREASTCANCERPER100TH.iloc[0:] [data.BREASTCANCERPER100TH.iloc[0:]<20 ] = 0\n",
    "data.BREASTCANCERPER100TH.iloc[0:] [data.BREASTCANCERPER100TH.iloc[0:]>=20 ] = 1\n",
    "\n",
    "#print(data)"
   ]
  },
  {
   "cell_type": "code",
   "execution_count": 68,
   "metadata": {},
   "outputs": [
    {
     "name": "stdout",
     "output_type": "stream",
     "text": [
      "* Problem 1 : Printing the zoo data set.... \n",
      "\n",
      "    animalName   hair  feathers   eggs   milk  airborne  aquatic  predator  \\\n",
      "0     aardvark   True     False  False   True     False    False      True   \n",
      "1     antelope   True     False  False   True     False    False     False   \n",
      "2         bass  False     False   True  False     False     True      True   \n",
      "3         bear   True     False  False   True     False    False      True   \n",
      "4         boar   True     False  False   True     False    False      True   \n",
      "5      buffalo   True     False  False   True     False    False     False   \n",
      "6         calf   True     False  False   True     False    False     False   \n",
      "7         carp  False     False   True  False     False     True     False   \n",
      "8      catfish  False     False   True  False     False     True      True   \n",
      "9         cavy   True     False  False   True     False    False     False   \n",
      "10     cheetah   True     False  False   True     False    False      True   \n",
      "11     chicken  False      True   True  False      True    False     False   \n",
      "12        chub  False     False   True  False     False     True      True   \n",
      "13        clam  False     False   True  False     False    False      True   \n",
      "14        crab  False     False   True  False     False     True      True   \n",
      "15    crayfish  False     False   True  False     False     True      True   \n",
      "16        crow  False      True   True  False      True    False      True   \n",
      "17        deer   True     False  False   True     False    False     False   \n",
      "18     dogfish  False     False   True  False     False     True      True   \n",
      "19     dolphin  False     False  False   True     False     True      True   \n",
      "20        dove  False      True   True  False      True    False     False   \n",
      "21        duck  False      True   True  False      True     True     False   \n",
      "22    elephant   True     False  False   True     False    False     False   \n",
      "23    flamingo  False      True   True  False      True    False     False   \n",
      "24        flea  False     False   True  False     False    False     False   \n",
      "25        frog  False     False   True  False     False     True      True   \n",
      "26        frog  False     False   True  False     False     True      True   \n",
      "27    fruitbat   True     False  False   True      True    False     False   \n",
      "28     giraffe   True     False  False   True     False    False     False   \n",
      "29     gorilla   True     False  False   True     False    False      True   \n",
      "..         ...    ...       ...    ...    ...       ...      ...       ...   \n",
      "71        rhea  False      True   True  False     False    False      True   \n",
      "72    scorpion  False     False  False  False     False    False      True   \n",
      "73    seahorse  False     False   True  False     False     True     False   \n",
      "74        seal   True     False  False   True     False     True      True   \n",
      "75     sealion   True     False  False   True     False     True      True   \n",
      "76    seasnake  False     False  False  False     False     True      True   \n",
      "77     seawasp  False     False   True  False     False     True      True   \n",
      "78     skimmer  False      True   True  False      True     True      True   \n",
      "79        skua  False      True   True  False      True     True      True   \n",
      "80    slowworm  False     False   True  False     False    False      True   \n",
      "81        slug  False     False   True  False     False    False     False   \n",
      "82        sole  False     False   True  False     False     True     False   \n",
      "83     sparrow  False      True   True  False      True    False     False   \n",
      "84    squirrel   True     False  False   True     False    False     False   \n",
      "85    starfish  False     False   True  False     False     True      True   \n",
      "86    stingray  False     False   True  False     False     True      True   \n",
      "87        swan  False      True   True  False      True     True     False   \n",
      "88     termite  False     False   True  False     False    False     False   \n",
      "89        toad  False     False   True  False     False     True     False   \n",
      "90    tortoise  False     False   True  False     False    False     False   \n",
      "91     tuatara  False     False   True  False     False    False      True   \n",
      "92        tuna  False     False   True  False     False     True      True   \n",
      "93     vampire   True     False  False   True      True    False     False   \n",
      "94        vole   True     False  False   True     False    False     False   \n",
      "95     vulture  False      True   True  False      True    False      True   \n",
      "96     wallaby   True     False  False   True     False    False     False   \n",
      "97        wasp   True     False   True  False      True    False     False   \n",
      "98        wolf   True     False  False   True     False    False      True   \n",
      "99        worm  False     False   True  False     False    False     False   \n",
      "100       wren  False      True   True  False      True    False     False   \n",
      "\n",
      "     toothed  backbone  breathes  venomous   fins  legs   tail  domestic  \\\n",
      "0       True      True      True     False  False     4  False     False   \n",
      "1       True      True      True     False  False     4   True     False   \n",
      "2       True      True     False     False   True     0   True     False   \n",
      "3       True      True      True     False  False     4  False     False   \n",
      "4       True      True      True     False  False     4   True     False   \n",
      "5       True      True      True     False  False     4   True     False   \n",
      "6       True      True      True     False  False     4   True      True   \n",
      "7       True      True     False     False   True     0   True      True   \n",
      "8       True      True     False     False   True     0   True     False   \n",
      "9       True      True      True     False  False     4  False      True   \n",
      "10      True      True      True     False  False     4   True     False   \n",
      "11     False      True      True     False  False     2   True      True   \n",
      "12      True      True     False     False   True     0   True     False   \n",
      "13     False     False     False     False  False     0  False     False   \n",
      "14     False     False     False     False  False     4  False     False   \n",
      "15     False     False     False     False  False     6  False     False   \n",
      "16     False      True      True     False  False     2   True     False   \n",
      "17      True      True      True     False  False     4   True     False   \n",
      "18      True      True     False     False   True     0   True     False   \n",
      "19      True      True      True     False   True     0   True     False   \n",
      "20     False      True      True     False  False     2   True      True   \n",
      "21     False      True      True     False  False     2   True     False   \n",
      "22      True      True      True     False  False     4   True     False   \n",
      "23     False      True      True     False  False     2   True     False   \n",
      "24     False     False      True     False  False     6  False     False   \n",
      "25      True      True      True     False  False     4  False     False   \n",
      "26      True      True      True      True  False     4  False     False   \n",
      "27      True      True      True     False  False     2   True     False   \n",
      "28      True      True      True     False  False     4   True     False   \n",
      "29      True      True      True     False  False     2  False      True   \n",
      "..       ...       ...       ...       ...    ...   ...    ...       ...   \n",
      "71     False      True      True     False  False     2   True     False   \n",
      "72     False     False      True      True  False     8   True     False   \n",
      "73      True      True     False     False   True     0   True     False   \n",
      "74      True      True      True     False   True     0  False     False   \n",
      "75      True      True      True     False   True     2   True     False   \n",
      "76      True      True     False      True  False     0   True     False   \n",
      "77     False     False     False      True  False     0  False     False   \n",
      "78     False      True      True     False  False     2   True     False   \n",
      "79     False      True      True     False  False     2   True     False   \n",
      "80      True      True      True     False  False     0   True     False   \n",
      "81     False     False      True     False  False     0  False     False   \n",
      "82      True      True     False     False   True     0   True     False   \n",
      "83     False      True      True     False  False     2   True     False   \n",
      "84      True      True      True     False  False     2   True     False   \n",
      "85     False     False     False     False  False     5  False     False   \n",
      "86      True      True     False      True   True     0   True     False   \n",
      "87     False      True      True     False  False     2   True     False   \n",
      "88     False     False      True     False  False     6  False     False   \n",
      "89      True      True      True     False  False     4  False     False   \n",
      "90     False      True      True     False  False     4   True     False   \n",
      "91      True      True      True     False  False     4   True     False   \n",
      "92      True      True     False     False   True     0   True     False   \n",
      "93      True      True      True     False  False     2   True     False   \n",
      "94      True      True      True     False  False     4   True     False   \n",
      "95     False      True      True     False  False     2   True     False   \n",
      "96      True      True      True     False  False     2   True     False   \n",
      "97     False     False      True      True  False     6  False     False   \n",
      "98      True      True      True     False  False     4   True     False   \n",
      "99     False     False      True     False  False     0  False     False   \n",
      "100    False      True      True     False  False     2   True     False   \n",
      "\n",
      "     catsize          type  \n",
      "0       True        mammal  \n",
      "1       True        mammal  \n",
      "2      False          fish  \n",
      "3       True        mammal  \n",
      "4       True        mammal  \n",
      "5       True        mammal  \n",
      "6       True        mammal  \n",
      "7      False          fish  \n",
      "8      False          fish  \n",
      "9      False        mammal  \n",
      "10      True        mammal  \n",
      "11     False          bird  \n",
      "12     False          fish  \n",
      "13     False  invertebrate  \n",
      "14     False  invertebrate  \n",
      "15     False  invertebrate  \n",
      "16     False          bird  \n",
      "17      True        mammal  \n",
      "18      True          fish  \n",
      "19      True        mammal  \n",
      "20     False          bird  \n",
      "21     False          bird  \n",
      "22      True        mammal  \n",
      "23      True          bird  \n",
      "24     False        insect  \n",
      "25     False     amphibian  \n",
      "26     False     amphibian  \n",
      "27     False        mammal  \n",
      "28      True        mammal  \n",
      "29      True        mammal  \n",
      "..       ...           ...  \n",
      "71      True          bird  \n",
      "72     False  invertebrate  \n",
      "73     False          fish  \n",
      "74      True        mammal  \n",
      "75      True        mammal  \n",
      "76     False       reptile  \n",
      "77     False  invertebrate  \n",
      "78     False          bird  \n",
      "79     False          bird  \n",
      "80     False       reptile  \n",
      "81     False  invertebrate  \n",
      "82     False          fish  \n",
      "83     False          bird  \n",
      "84     False        mammal  \n",
      "85     False  invertebrate  \n",
      "86      True          fish  \n",
      "87      True          bird  \n",
      "88     False        insect  \n",
      "89     False     amphibian  \n",
      "90      True       reptile  \n",
      "91     False       reptile  \n",
      "92      True          fish  \n",
      "93     False        mammal  \n",
      "94     False        mammal  \n",
      "95      True          bird  \n",
      "96      True        mammal  \n",
      "97     False        insect  \n",
      "98      True        mammal  \n",
      "99     False  invertebrate  \n",
      "100    False          bird  \n",
      "\n",
      "[101 rows x 18 columns]\n",
      "* Problem 2 :\n",
      "\n",
      "classification accuracy using decision tree classifier by training set... \n",
      "Training Accuracy:  1.0\n",
      "\n",
      "classification accuracy using decision tree classifier by splitting the data as 2/3 for training and 1/3 for testing... \n",
      "Test Accuracy:  0.8823529411764706\n",
      "\n",
      "classification accuracy using decision tree classifier by 10-fold cross validation... \n",
      "[1.    0.917 0.917 0.909 0.8   0.889 1.    1.    1.    1.   ]\n",
      "10CV Accuracy: 0.94 (+/- 0.13)\n",
      "\n",
      "Answer  : 10 fold cross validation provides more realistic future performance as it uses the whole test set as trainning set and also as the test set in each fold\n",
      "\n",
      "* Problem 3 :\n",
      "\n",
      "it doesn't make any sense of having confusion matrix in trainning set where accuracy is 1.0 (diagonal matrix)\n",
      "\n",
      "\n",
      "Confusion matrix using Decision tree classifier..\n",
      "[[ 1  0  0  0  0  0  0]\n",
      " [ 0  6  0  0  0  0  0]\n",
      " [ 0  0  7  0  0  0  0]\n",
      " [ 0  0  0  2  0  0  0]\n",
      " [ 0  0  0  0  2  0  0]\n",
      " [ 0  0  0  0  0 12  0]\n",
      " [ 1  0  0  0  0  0  3]]\n",
      "in above confusion matrix 4 classification errors have happend. (7 classified as 1)\n",
      "\n",
      "\n",
      "Confusion matrix using GaussianNB..\n",
      "[[ 1  0  0  0  0  0  0]\n",
      " [ 0  6  0  0  0  0  0]\n",
      " [ 0  0  7  0  0  0  0]\n",
      " [ 0  0  0  2  0  0  0]\n",
      " [ 0  0  0  0  2  0  0]\n",
      " [ 0  0  0  0  0 12  0]\n",
      " [ 1  0  0  0  2  1  0]]\n",
      "in above confusion matrix 4 classification errors have happend. (7 classified as 1, 5 & 6)\n",
      "\n",
      "\n",
      "Confusion matrix using MultinomialNB..\n",
      "[[ 0  0  0  0  1  0  0]\n",
      " [ 0  6  0  0  0  0  0]\n",
      " [ 0  0  7  0  0  0  0]\n",
      " [ 0  0  0  2  0  0  0]\n",
      " [ 0  0  0  0  2  0  0]\n",
      " [ 0  0  0  0  0 12  0]\n",
      " [ 0  0  3  0  0  1  0]]\n",
      "in above confusion matrix 5 classification errors have happend. (7 classified as 2 & 6, 1 classified as 5) \n",
      "\n",
      "\n",
      "Confusion matrix using KNeighbors Classifier..\n",
      "[[ 1  0  0  0  0  0  0]\n",
      " [ 0  6  0  0  0  0  0]\n",
      " [ 0  0  7  0  0  0  0]\n",
      " [ 0  0  0  2  0  0  0]\n",
      " [ 0  0  0  0  2  0  0]\n",
      " [ 0  0  0  0  0 12  0]\n",
      " [ 1  0  3  0  0  0  0]]\n",
      "in above confusion matrix 4 classification errors have happend. (7 classified as 1 & 3) \n",
      "\n",
      "\n",
      "Confusion matrix using SVM..\n",
      "[[ 1  0  0  0  0  0  0]\n",
      " [ 0  6  0  0  0  0  0]\n",
      " [ 0  0  7  0  0  0  0]\n",
      " [ 0  0  0  2  0  0  0]\n",
      " [ 0  0  0  0  2  0  0]\n",
      " [ 0  0  0  0  0 12  0]\n",
      " [ 1  0  3  0  0  0  0]]\n",
      "in above confusion matrix 4 classification errors have happend. (7 classified as 1 & 3) \n",
      "\n",
      "\n",
      "* Problem 4 :\n",
      "\n",
      "10-fold cross validation accuracy of Decision Tree Classifier\n",
      "\n",
      "[1.    0.917 0.917 0.909 0.9   0.889 1.    1.    1.    1.   ]\n",
      "10CV Accuracy: 0.95 (+/- 0.09)\n"
     ]
    },
    {
     "name": "stderr",
     "output_type": "stream",
     "text": [
      "E:\\Program files\\Anaconda\\lib\\site-packages\\sklearn\\model_selection\\_split.py:605: Warning: The least populated class in y has only 4 members, which is too few. The minimum number of members in any class cannot be less than n_splits=10.\n",
      "  % (min_groups, self.n_splits)), Warning)\n",
      "E:\\Program files\\Anaconda\\lib\\site-packages\\sklearn\\model_selection\\_split.py:605: Warning: The least populated class in y has only 4 members, which is too few. The minimum number of members in any class cannot be less than n_splits=10.\n",
      "  % (min_groups, self.n_splits)), Warning)\n",
      "E:\\Program files\\Anaconda\\lib\\site-packages\\sklearn\\model_selection\\_split.py:605: Warning: The least populated class in y has only 4 members, which is too few. The minimum number of members in any class cannot be less than n_splits=10.\n",
      "  % (min_groups, self.n_splits)), Warning)\n",
      "E:\\Program files\\Anaconda\\lib\\site-packages\\sklearn\\model_selection\\_split.py:605: Warning: The least populated class in y has only 4 members, which is too few. The minimum number of members in any class cannot be less than n_splits=10.\n",
      "  % (min_groups, self.n_splits)), Warning)\n"
     ]
    },
    {
     "name": "stdout",
     "output_type": "stream",
     "text": [
      "\n",
      "\n",
      "10-fold cross validation accuracy of GaussianNB\n",
      "\n",
      "[1.    0.917 0.917 0.909 1.    0.889 0.889 1.    1.    1.   ]\n",
      "10CV Accuracy: 0.95 (+/- 0.10)\n",
      "\n",
      "\n",
      "10-fold cross validation accuracy of MultinomialNB\n",
      "\n",
      "[0.923 0.917 0.833 0.909 0.9   0.889 0.889 0.778 1.    0.875]\n",
      "10CV Accuracy: 0.89 (+/- 0.11)\n",
      "\n",
      "\n",
      "10-fold cross validation accuracy of KNeighborsClassifier\n",
      "\n",
      "[1.    0.917 1.    1.    0.9   1.    1.    1.    1.    1.   ]\n",
      "10CV Accuracy: 0.98 (+/- 0.07)\n",
      "\n",
      "\n",
      "10-fold cross validation accuracy of SVM\n",
      "\n",
      "[1.    0.917 0.917 0.909 0.9   0.889 1.    1.    1.    1.   ]\n",
      "10CV Accuracy: 0.95 (+/- 0.09)\n"
     ]
    },
    {
     "name": "stderr",
     "output_type": "stream",
     "text": [
      "E:\\Program files\\Anaconda\\lib\\site-packages\\sklearn\\model_selection\\_split.py:605: Warning: The least populated class in y has only 4 members, which is too few. The minimum number of members in any class cannot be less than n_splits=10.\n",
      "  % (min_groups, self.n_splits)), Warning)\n",
      "E:\\Program files\\Anaconda\\lib\\site-packages\\sklearn\\model_selection\\_split.py:605: Warning: The least populated class in y has only 4 members, which is too few. The minimum number of members in any class cannot be less than n_splits=10.\n",
      "  % (min_groups, self.n_splits)), Warning)\n",
      "E:\\Program files\\Anaconda\\lib\\site-packages\\sklearn\\model_selection\\_split.py:605: Warning: The least populated class in y has only 4 members, which is too few. The minimum number of members in any class cannot be less than n_splits=10.\n",
      "  % (min_groups, self.n_splits)), Warning)\n"
     ]
    },
    {
     "name": "stdout",
     "output_type": "stream",
     "text": [
      "\n",
      "\n",
      "* Problem 5 :\n",
      "\n",
      "\n",
      "10-fold cross validation accuracy of RandomForestClassifier\n",
      "\n",
      "[1.    0.917 1.    1.    1.    0.889 1.    1.    1.    1.   ]\n",
      "10CV Accuracy: 0.98 (+/- 0.08)\n",
      "\n",
      "Confusion matrix using RandomForestClassifier..\n",
      "[[ 1  0  0  0  0  0  0]\n",
      " [ 0  6  0  0  0  0  0]\n",
      " [ 0  0  7  0  0  0  0]\n",
      " [ 0  0  0  2  0  0  0]\n",
      " [ 0  0  0  0  2  0  0]\n",
      " [ 0  0  0  0  0 12  0]\n",
      " [ 3  0  1  0  0  0  0]]\n"
     ]
    }
   ],
   "source": [
    "import pandas as pd\n",
    "from sklearn import tree\n",
    "from sklearn.model_selection import train_test_split\n",
    "from sklearn.model_selection import cross_val_score\n",
    "from sklearn.metrics import confusion_matrix\n",
    "from sklearn.naive_bayes import GaussianNB\n",
    "from sklearn.naive_bayes import MultinomialNB\n",
    "from sklearn import neighbors , datasets\n",
    "from sklearn import svm\n",
    "from sklearn.ensemble import RandomForestClassifier\n",
    "\n",
    "#problem 1\n",
    "fileName = 'zooData.csv'\n",
    "data = pd.read_csv(fileName)\n",
    "print(\"* Problem 1 : Printing the zoo data set.... \\n\")\n",
    "print(data)\n",
    "data.drop(['animalName'], axis=1, inplace=True)\n",
    "Y = data['type']\n",
    "data.drop(['type'], axis=1, inplace=True)\n",
    "X = data\n",
    "\n",
    "#problem 2\n",
    "clf = tree.DecisionTreeClassifier()\n",
    "clf = clf.fit(X,Y)\n",
    "print(\"* Problem 2 :\\n\")\n",
    "print(\"classification accuracy using decision tree classifier by training set... \")\n",
    "print('Training Accuracy: ',clf.score(X,Y)) # Training accuracy\n",
    "\n",
    "X_train , X_test , Y_train , Y_test = train_test_split(X, Y, test_size =0.333,random_state =0)\n",
    "clf.fit(X_train ,Y_train) # clf is a classifier.\n",
    "print(\"\\nclassification accuracy using decision tree classifier by splitting the data as 2/3 for training and 1/3 for testing... \")\n",
    "print('Test Accuracy: ',clf.score(X_test ,Y_test )) # Test accuracy\n",
    "\n",
    "# 10-fold cross validation\n",
    "scores = cross_val_score(clf, X, Y, cv=10) # 10-fold cross validation\n",
    "print(\"\\nclassification accuracy using decision tree classifier by 10-fold cross validation... \")\n",
    "print(scores) # Results for all the folds\n",
    "print(\"10CV Accuracy: %0.2f (+/- %0.2f)\" % (scores.mean(),scores.std()*2))\n",
    "\n",
    "# 10 fold cross validation provides more realistic future performance as it uses the whole test set as trainning set and also as the test set in each fold\n",
    "print(\"\\nAnswer  : 10 fold cross validation provides more realistic future performance as it uses the whole test set as trainning set and also as the test set in each fold\")\n",
    "\n",
    "#problem 3\n",
    "\n",
    "# it doesn't make any sense of having confusion matrix in trainning set where accuracy is 1.0 (diagonal matrix)\n",
    "print(\"\\n* Problem 3 :\\n\")\n",
    "print(\"it doesn't make any sense of having confusion matrix in trainning set where accuracy is 1.0 (diagonal matrix)\\n\")\n",
    "\n",
    "# by splitting the data as 2/3 for training and 1/3 for testing\n",
    "clf = tree.DecisionTreeClassifier()\n",
    "X_train , X_test , Y_train , Y_test = train_test_split(X, Y, test_size =0.333,random_state =0)\n",
    "clf.fit(X_train ,Y_train) # clf is a classifier.\n",
    "Y_pred = clf.fit(X_train , Y_train ).predict(X_test)\n",
    "print(\"\\nConfusion matrix using Decision tree classifier..\")\n",
    "print(confusion_matrix(Y_test , Y_pred ))\n",
    "# in above confusion matrix 4 classification errors have happend. (7 classified as 1)\n",
    "print(\"in above confusion matrix 4 classification errors have happend. (7 classified as 1)\\n\")\n",
    "\n",
    "clf = GaussianNB()\n",
    "clf.fit(X,Y)\n",
    "X_train , X_test , Y_train , Y_test = train_test_split(X, Y, test_size =0.333,random_state =0)\n",
    "clf.fit(X_train ,Y_train) # clf is a classifier.\n",
    "Y_pred = clf.fit(X_train , Y_train ).predict(X_test)\n",
    "print(\"\\nConfusion matrix using GaussianNB..\")\n",
    "print(confusion_matrix(Y_test , Y_pred ))\n",
    "# in above confusion matrix 4 classification errors have happend. (7 classified as 1, 5 & 6) \n",
    "print(\"in above confusion matrix 4 classification errors have happend. (7 classified as 1, 5 & 6)\\n\")\n",
    "\n",
    "clf=MultinomialNB() # clf is a classifier.\n",
    "clf.fit(X,Y)\n",
    "X_train , X_test , Y_train , Y_test = train_test_split(X, Y, test_size =0.333,random_state =0)\n",
    "clf.fit(X_train ,Y_train) # clf is a classifier.\n",
    "Y_pred = clf.fit(X_train , Y_train ).predict(X_test)\n",
    "print(\"\\nConfusion matrix using MultinomialNB..\")\n",
    "print(confusion_matrix(Y_test , Y_pred ))\n",
    "# in above confusion matrix 5 classification errors have happend. (7 classified as 2 & 6, 1 classified as 5) \n",
    "print(\"in above confusion matrix 5 classification errors have happend. (7 classified as 2 & 6, 1 classified as 5) \\n\")\n",
    "\n",
    "clf = neighbors.KNeighborsClassifier(n_neighbors =1) # 1-Nearest Neighbor\n",
    "clf.fit(X,Y) # Model\n",
    "X_train , X_test , Y_train , Y_test = train_test_split(X, Y, test_size =0.333,random_state =0)\n",
    "clf.fit(X_train ,Y_train) # clf is a classifier.\n",
    "Y_pred = clf.fit(X_train , Y_train ).predict(X_test)\n",
    "print(\"\\nConfusion matrix using KNeighbors Classifier..\")\n",
    "print(confusion_matrix(Y_test , Y_pred ))\n",
    "# in above confusion matrix 4 classification errors have happend. (7 classified as 1 & 3) \n",
    "print(\"in above confusion matrix 4 classification errors have happend. (7 classified as 1 & 3) \\n\")\n",
    "\n",
    "clf = svm.SVC(kernel='linear', C=1,gamma=1).fit(X, Y) # clf is a classifier\n",
    "clf.fit(X,Y) # Model\n",
    "X_train , X_test , Y_train , Y_test = train_test_split(X, Y, test_size =0.333,random_state =0)\n",
    "clf.fit(X_train ,Y_train) # clf is a classifier.\n",
    "Y_pred = clf.fit(X_train , Y_train ).predict(X_test)\n",
    "print(\"\\nConfusion matrix using SVM..\")\n",
    "print(confusion_matrix(Y_test , Y_pred ))\n",
    "# in above confusion matrix 4 classification errors have happend. (7 classified as 1 & 3) \n",
    "print(\"in above confusion matrix 4 classification errors have happend. (7 classified as 1 & 3) \\n\")\n",
    "\n",
    "print(\"\\n* Problem 4 :\\n\")\n",
    "clf = tree.DecisionTreeClassifier()\n",
    "clf.fit(X,Y)\n",
    "scores = cross_val_score(clf, X, Y, cv=10) # 10-fold cross validation\n",
    "print(\"10-fold cross validation accuracy of Decision Tree Classifier\\n\")\n",
    "print(scores) # Results for all the folds\n",
    "print(\"10CV Accuracy: %0.2f (+/- %0.2f)\" % (scores.mean(),scores.std()*2))\n",
    "\n",
    "clf = GaussianNB()\n",
    "clf.fit(X,Y)\n",
    "scores = cross_val_score(clf, X, Y, cv=10) # 10-fold cross validation\n",
    "print(\"\\n\\n10-fold cross validation accuracy of GaussianNB\\n\")\n",
    "print(scores) # Results for all the folds\n",
    "print(\"10CV Accuracy: %0.2f (+/- %0.2f)\" % (scores.mean(),scores.std()*2))\n",
    "\n",
    "clf=MultinomialNB() # clf is a classifier.\n",
    "clf.fit(X,Y)\n",
    "scores = cross_val_score(clf, X, Y, cv=10) # 10-fold cross validation\n",
    "print(\"\\n\\n10-fold cross validation accuracy of MultinomialNB\\n\")\n",
    "print(scores) # Results for all the folds\n",
    "print(\"10CV Accuracy: %0.2f (+/- %0.2f)\" % (scores.mean(),scores.std()*2))\n",
    "\n",
    "clf = neighbors.KNeighborsClassifier(n_neighbors =1) # 1-Nearest Neighbor\n",
    "clf.fit(X,Y) # Model\n",
    "scores = cross_val_score(clf, X, Y, cv=10) # 10-fold cross validation\n",
    "print(\"\\n\\n10-fold cross validation accuracy of KNeighborsClassifier\\n\")\n",
    "print(scores) # Results for all the folds\n",
    "print(\"10CV Accuracy: %0.2f (+/- %0.2f)\" % (scores.mean(),scores.std()*2))\n",
    "\n",
    "clf = svm.SVC(kernel='linear', C=1,gamma=1).fit(X, Y) # clf is a classifier\n",
    "clf.fit(X,Y) # Model\n",
    "scores = cross_val_score(clf, X, Y, cv=10) # 10-fold cross validation\n",
    "print(\"\\n\\n10-fold cross validation accuracy of SVM\\n\")\n",
    "print(scores) # Results for all the folds\n",
    "print(\"10CV Accuracy: %0.2f (+/- %0.2f)\" % (scores.mean(),scores.std()*2))\n",
    "\n",
    "\n",
    "# Problem 5\n",
    "clf=RandomForestClassifier(n_estimators=100)\n",
    "clf.fit(X,Y) # Model\n",
    "scores = cross_val_score(clf, X, Y, cv=10) # 10-fold cross validation\n",
    "print(\"\\n\\n* Problem 5 :\")\n",
    "print(\"\\n\\n10-fold cross validation accuracy of RandomForestClassifier\\n\")\n",
    "print(scores) # Results for all the folds\n",
    "print(\"10CV Accuracy: %0.2f (+/- %0.2f)\" % (scores.mean(),scores.std()*2))\n",
    "\n",
    "X_train , X_test , Y_train , Y_test = train_test_split(X, Y, test_size =0.333,random_state =0)\n",
    "clf.fit(X_train ,Y_train) # clf is a classifier.\n",
    "Y_pred = clf.fit(X_train , Y_train ).predict(X_test)\n",
    "print(\"\\nConfusion matrix using RandomForestClassifier..\")\n",
    "print(confusion_matrix(Y_test , Y_pred ))"
   ]
  },
  {
   "cell_type": "code",
   "execution_count": null,
   "metadata": {},
   "outputs": [],
   "source": []
  }
 ],
 "metadata": {
  "kernelspec": {
   "display_name": "Python 3",
   "language": "python",
   "name": "python3"
  },
  "language_info": {
   "codemirror_mode": {
    "name": "ipython",
    "version": 3
   },
   "file_extension": ".py",
   "mimetype": "text/x-python",
   "name": "python",
   "nbconvert_exporter": "python",
   "pygments_lexer": "ipython3",
   "version": "3.7.0"
  }
 },
 "nbformat": 4,
 "nbformat_minor": 2
}
